{
 "cells": [
  {
   "cell_type": "markdown",
   "metadata": {},
   "source": [
    "# Import Libraries"
   ]
  },
  {
   "cell_type": "code",
   "execution_count": null,
   "metadata": {},
   "outputs": [],
   "source": [
    "import torch\n",
    "import numpy as np\n",
    "import cv2\n",
    "from time import time\n",
    "from ultralytics import YOLO\n",
    "from ultralytics.utils.plotting import Annotator, colors\n",
    "import smtplib\n",
    "from email.mime.multipart import MIMEMultipart\n",
    "from email.mime.text import MIMEText"
   ]
  },
  {
   "cell_type": "markdown",
   "metadata": {},
   "source": [
    "# Set up the Parameters of the Message"
   ]
  },
  {
   "cell_type": "markdown",
   "metadata": {},
   "source": [
    "Navigate to [App Password Generator](https://accounts.google.com/v3/signin/identifier?continue=https%3A%2F%2Fmyaccount.google.com%2Fapppasswords&followup=https%3A%2F%2Fmyaccount.google.com%2Fapppasswords&ifkv=ARZ0qKK7s2CXFItpn5kqUfS9HX2bc7oqnphu9lJKhLkdDTNv8ZmIlrf2_2ow7qS0rc1xq4m_o2f9TA&osid=1&passive=1209600&rart=ANgoxceHvwqJVyJsrFAnBM-GTNddR6_rT-3w_YVwx9tLMf2v8J27hjvo0tjI2nHIlfxtowoLqF6D17T29rUzibwg-vsUf8ygLD9EN5gCD2XWRiJo0F4YQWg&service=accountsettings&flowName=GlifWebSignIn&flowEntry=ServiceLogin&dsh=S1158263025%3A1711295381941536&theme=mn&ddm=0), designate an app name such as \"security project,\" and obtain a 16-digit password. Copy this password and paste it into the designated password field as instructed."
   ]
  },
  {
   "cell_type": "code",
   "execution_count": null,
   "metadata": {},
   "outputs": [],
   "source": [
    "password = \"\"\n",
    "from_email = \"\"  # must match the email used to generate the password\n",
    "to_email = \"\"  # receiver email"
   ]
  },
  {
   "cell_type": "markdown",
   "metadata": {},
   "source": [
    "# Server Creation and Authentication"
   ]
  },
  {
   "cell_type": "code",
   "execution_count": null,
   "metadata": {},
   "outputs": [],
   "source": [
    "server = smtplib.SMTP('smtp.gmail.com: 587')\n",
    "server.starttls()\n",
    "server.login(from_email, password)"
   ]
  },
  {
   "cell_type": "markdown",
   "metadata": {},
   "source": [
    "# Email Send Function"
   ]
  },
  {
   "cell_type": "code",
   "execution_count": null,
   "metadata": {},
   "outputs": [],
   "source": [
    "def send_email(to_email, from_email):\n",
    "    message = MIMEMultipart()\n",
    "    message['From'] = from_email\n",
    "    message['To'] = to_email\n",
    "    message['Subject'] = \"Security Alert\"\n",
    "    # Add in the message body\n",
    "    message_body = f\"ALERT - Someone is moving into the restricted area!\"\n",
    "\n",
    "    message.attach(MIMEText(message_body, \"plain\"))\n",
    "    server.sendmail(from_email, to_email, message.as_string())"
   ]
  },
  {
   "cell_type": "markdown",
   "metadata": {},
   "source": [
    "# Object Detection and Alert Sender"
   ]
  },
  {
   "cell_type": "code",
   "execution_count": null,
   "metadata": {},
   "outputs": [],
   "source": [
    "class ObjectDetection:\n",
    "    def __init__(self, capture_index):\n",
    "        # default parameters\n",
    "        self.capture_index = capture_index\n",
    "        self.email_sent = False\n",
    "\n",
    "        # model information\n",
    "        self.model = YOLO(\"yolov8n.pt\")\n",
    "\n",
    "        # visual information\n",
    "        self.annotator = None\n",
    "        self.start_time = 0\n",
    "        self.end_time = 0\n",
    "\n",
    "        # device information\n",
    "        self.device = 'cuda' if torch.cuda.is_available() else 'cpu'\n",
    "\n",
    "    def predict(self, im0):\n",
    "        results = self.model(im0)\n",
    "        return results\n",
    "\n",
    "    def display_fps(self, im0):\n",
    "        self.end_time = time()\n",
    "        fps = 1 / np.round(self.end_time - self.start_time, 2)\n",
    "        text = f\"FPS: {int(fps)}\"\n",
    "        text_size = cv2.getTextSize(text, cv2.FONT_HERSHEY_SIMPLEX, 1.0, 2)[0]\n",
    "        gap = 10\n",
    "        cv2.rectangle(im0, (20 - gap, 70 - text_size[1] - gap), (20 + text_size[0] + gap, 70 + gap), (255, 255, 255), -1)\n",
    "        cv2.putText(im0, text, (20, 70), cv2.FONT_HERSHEY_SIMPLEX, 1.0, (0, 0, 0), 2)\n",
    "\n",
    "    def plot_bboxes(self, results, im0):\n",
    "        flag = False\n",
    "        self.annotator = Annotator(im0, example=results[0].names)\n",
    "        boxes = results[0].boxes.xyxy.cpu()\n",
    "        clss = results[0].boxes.cls.cpu().tolist()\n",
    "        names = results[0].names\n",
    "        for box, cls in zip(boxes, clss):\n",
    "            if cls == 0:    # Person class\n",
    "                self.annotator.box_label(box, label=names[int(cls)], color=colors(int(cls), True))\n",
    "                flag = True\n",
    "        return im0, flag\n",
    "\n",
    "    def __call__(self):\n",
    "        cap = cv2.VideoCapture(self.capture_index)\n",
    "        assert cap.isOpened()\n",
    "        cap.set(cv2.CAP_PROP_FRAME_WIDTH, 640)\n",
    "        cap.set(cv2.CAP_PROP_FRAME_HEIGHT, 480)\n",
    "        while True:\n",
    "            self.start_time = time()\n",
    "            ret, im0 = cap.read()\n",
    "            assert ret\n",
    "            results = self.predict(im0)\n",
    "            im0, flag = self.plot_bboxes(results, im0)\n",
    "\n",
    "            if flag:  \n",
    "                if not self.email_sent:    # Only send email if not sent before\n",
    "                    send_email(to_email, from_email)\n",
    "                    self.email_sent = True\n",
    "            else:\n",
    "                self.email_sent = False\n",
    "\n",
    "            self.display_fps(im0)\n",
    "            cv2.imshow(\"YOLOv8 Detection\", im0)\n",
    "            if cv2.waitKey(5) & 0xFF == 27:    # 'Esc' key\n",
    "                break\n",
    "        cap.release()\n",
    "        cv2.destroyAllWindows()\n",
    "        server.quit()"
   ]
  },
  {
   "cell_type": "markdown",
   "metadata": {},
   "source": [
    "# Call the Object Detection Class and Run the Inference"
   ]
  },
  {
   "cell_type": "code",
   "execution_count": null,
   "metadata": {},
   "outputs": [],
   "source": [
    "detector = ObjectDetection(capture_index=0)\n",
    "detector()"
   ]
  }
 ],
 "metadata": {
  "kernelspec": {
   "display_name": "Python 3",
   "language": "python",
   "name": "python3"
  },
  "language_info": {
   "codemirror_mode": {
    "name": "ipython",
    "version": 3
   },
   "file_extension": ".py",
   "mimetype": "text/x-python",
   "name": "python",
   "nbconvert_exporter": "python",
   "pygments_lexer": "ipython3",
   "version": "3.11.2"
  }
 },
 "nbformat": 4,
 "nbformat_minor": 2
}
